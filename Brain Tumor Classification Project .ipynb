{
 "cells": [
  {
   "cell_type": "code",
   "execution_count": 1,
   "id": "db1e0ba2",
   "metadata": {},
   "outputs": [],
   "source": [
    "import numpy as np\n",
    "import pandas as pd\n",
    "import matplotlib.pyplot as plt\n",
    "import cv2\n",
    "import tensorflow as tf\n",
    "from tensorflow import keras"
   ]
  },
  {
   "cell_type": "code",
   "execution_count": 2,
   "id": "9d555a92",
   "metadata": {},
   "outputs": [],
   "source": [
    "from tensorflow.keras.models import Sequential  # container \n",
    "from tensorflow.keras.layers import Dense,Flatten,Conv2D,MaxPool2D,Dropout,Activation,LeakyReLU\n",
    "from tensorflow.keras.optimizers import Adam,Adagrad,Adadelta,Adamax\n",
    "from tensorflow.keras.activations import sigmoid,relu,softmax\n",
    "from tensorflow.keras.preprocessing.image import ImageDataGenerator  # Data Augmentation "
   ]
  },
  {
   "cell_type": "code",
   "execution_count": 3,
   "id": "7890501d",
   "metadata": {},
   "outputs": [],
   "source": [
    "path = \"E:\\\\data\""
   ]
  },
  {
   "cell_type": "code",
   "execution_count": 4,
   "id": "9f62d1ff",
   "metadata": {},
   "outputs": [
    {
     "data": {
      "text/plain": [
       "'E:\\\\data'"
      ]
     },
     "execution_count": 4,
     "metadata": {},
     "output_type": "execute_result"
    }
   ],
   "source": [
    "path"
   ]
  },
  {
   "cell_type": "code",
   "execution_count": 5,
   "id": "fb4eb348",
   "metadata": {},
   "outputs": [],
   "source": [
    "train_data_path = path + '\\\\Training'\n",
    "test_data_path = path + '\\\\Testing'"
   ]
  },
  {
   "cell_type": "code",
   "execution_count": 6,
   "id": "f5b3fef7",
   "metadata": {},
   "outputs": [
    {
     "data": {
      "text/plain": [
       "'E:\\\\data\\\\Training'"
      ]
     },
     "execution_count": 6,
     "metadata": {},
     "output_type": "execute_result"
    }
   ],
   "source": [
    "train_data_path"
   ]
  },
  {
   "cell_type": "code",
   "execution_count": 7,
   "id": "334352ed",
   "metadata": {},
   "outputs": [
    {
     "data": {
      "text/plain": [
       "'E:\\\\data\\\\Testing'"
      ]
     },
     "execution_count": 7,
     "metadata": {},
     "output_type": "execute_result"
    }
   ],
   "source": [
    "test_data_path"
   ]
  },
  {
   "cell_type": "code",
   "execution_count": 8,
   "id": "d4fce205",
   "metadata": {},
   "outputs": [
    {
     "data": {
      "text/plain": [
       "['E:\\\\data\\\\Training\\\\glioma_tumor',\n",
       " 'E:\\\\data\\\\Training\\\\meningioma_tumor',\n",
       " 'E:\\\\data\\\\Training\\\\no_tumor',\n",
       " 'E:\\\\data\\\\Training\\\\pituitary_tumor']"
      ]
     },
     "execution_count": 8,
     "metadata": {},
     "output_type": "execute_result"
    }
   ],
   "source": [
    "from glob import glob\n",
    "glob('E:\\\\data\\\\Training\\\\*')"
   ]
  },
  {
   "cell_type": "code",
   "execution_count": 9,
   "id": "3b331ffb",
   "metadata": {},
   "outputs": [
    {
     "data": {
      "text/plain": [
       "['E:\\\\data\\\\Testing\\\\glioma_tumor',\n",
       " 'E:\\\\data\\\\Testing\\\\meningioma_tumor',\n",
       " 'E:\\\\data\\\\Testing\\\\no_tumor',\n",
       " 'E:\\\\data\\\\Testing\\\\pituitary_tumor']"
      ]
     },
     "execution_count": 9,
     "metadata": {},
     "output_type": "execute_result"
    }
   ],
   "source": [
    "from glob import glob\n",
    "glob('E:\\\\data\\\\Testing\\*')"
   ]
  },
  {
   "cell_type": "code",
   "execution_count": 10,
   "id": "c14d639e",
   "metadata": {},
   "outputs": [],
   "source": [
    "img_width , img_height = 150,150"
   ]
  },
  {
   "cell_type": "code",
   "execution_count": 11,
   "id": "dfb5a4a1",
   "metadata": {},
   "outputs": [],
   "source": [
    "labels = ['glioma_tumor','meningioma_tumor','no_tumor','pituitary_tumor']"
   ]
  },
  {
   "cell_type": "code",
   "execution_count": 12,
   "id": "d4e4d231",
   "metadata": {},
   "outputs": [],
   "source": [
    "train_gen = ImageDataGenerator(rescale=1./255,\n",
    "                               shear_range=0.2,\n",
    "                               horizontal_flip=True,\n",
    "                               zoom_range=0.2)\n",
    "                               \n",
    "                               \n",
    "test_gen = ImageDataGenerator(rescale=1./255)"
   ]
  },
  {
   "cell_type": "code",
   "execution_count": 13,
   "id": "66edef72",
   "metadata": {},
   "outputs": [
    {
     "name": "stdout",
     "output_type": "stream",
     "text": [
      "Found 2870 images belonging to 4 classes.\n",
      "Found 394 images belonging to 4 classes.\n"
     ]
    }
   ],
   "source": [
    "train_gen = ImageDataGenerator(rescale=1./255,\n",
    "                               shear_range=0.2,\n",
    "                               horizontal_flip=True,\n",
    "                               zoom_range=0.2)\n",
    "                               \n",
    "                               \n",
    "test_gen = ImageDataGenerator(rescale=1./255)"
   ]
  },
  {
   "cell_type": "code",
   "execution_count": 14,
   "id": "b5a8235d",
   "metadata": {},
   "outputs": [],
   "source": [
    "model = Sequential()\n",
    "model.add(Conv2D(128,kernel_size=(3,3),input_shape=(img_height,img_width,3),padding='same',activation='relu'))\n",
    "model.add(MaxPool2D(pool_size=(2,2)))\n",
    "model.add(Conv2D(64,kernel_size=(3,3),padding='same',activation='relu'))\n",
    "model.add(MaxPool2D(pool_size=(2,2)))\n",
    "model.add(Dropout(0.2))\n",
    "model.add(Conv2D(32,kernel_size=(3,3),padding='same',activation='relu'))\n",
    "model.add(MaxPool2D(pool_size=(2,2)))\n",
    "model.add(Dropout(0.2))\n",
    "model.add(Dense(32,activation='relu'))\n",
    "model.add(Flatten())\n",
    "model.add(Dense(32,activation='relu'))\n",
    "model.add(Dense(4,activation='softmax'))"
   ]
  },
  {
   "cell_type": "code",
   "execution_count": 15,
   "id": "d11f58b4",
   "metadata": {},
   "outputs": [
    {
     "name": "stdout",
     "output_type": "stream",
     "text": [
      "Model: \"sequential\"\n",
      "_________________________________________________________________\n",
      "Layer (type)                 Output Shape              Param #   \n",
      "=================================================================\n",
      "conv2d (Conv2D)              (None, 150, 150, 128)     3584      \n",
      "_________________________________________________________________\n",
      "max_pooling2d (MaxPooling2D) (None, 75, 75, 128)       0         \n",
      "_________________________________________________________________\n",
      "conv2d_1 (Conv2D)            (None, 75, 75, 64)        73792     \n",
      "_________________________________________________________________\n",
      "max_pooling2d_1 (MaxPooling2 (None, 37, 37, 64)        0         \n",
      "_________________________________________________________________\n",
      "dropout (Dropout)            (None, 37, 37, 64)        0         \n",
      "_________________________________________________________________\n",
      "conv2d_2 (Conv2D)            (None, 37, 37, 32)        18464     \n",
      "_________________________________________________________________\n",
      "max_pooling2d_2 (MaxPooling2 (None, 18, 18, 32)        0         \n",
      "_________________________________________________________________\n",
      "dropout_1 (Dropout)          (None, 18, 18, 32)        0         \n",
      "_________________________________________________________________\n",
      "dense (Dense)                (None, 18, 18, 32)        1056      \n",
      "_________________________________________________________________\n",
      "flatten (Flatten)            (None, 10368)             0         \n",
      "_________________________________________________________________\n",
      "dense_1 (Dense)              (None, 32)                331808    \n",
      "_________________________________________________________________\n",
      "dense_2 (Dense)              (None, 4)                 132       \n",
      "=================================================================\n",
      "Total params: 428,836\n",
      "Trainable params: 428,836\n",
      "Non-trainable params: 0\n",
      "_________________________________________________________________\n"
     ]
    }
   ],
   "source": [
    "model.summary()"
   ]
  },
  {
   "cell_type": "code",
   "execution_count": 16,
   "id": "378dd85a",
   "metadata": {},
   "outputs": [],
   "source": [
    "model.compile(optimizer='adam',loss='categorical_crossentropy',metrics=['accuracy'])"
   ]
  },
  {
   "cell_type": "code",
   "execution_count": 20,
   "id": "5d669f93",
   "metadata": {},
   "outputs": [],
   "source": [
    "epochs1 = 10   # categorical"
   ]
  },
  {
   "cell_type": "code",
   "execution_count": 21,
   "id": "55562671",
   "metadata": {},
   "outputs": [],
   "source": [
    "from PIL import Image\n",
    "import PIL.ImageOps  \n",
    "import requests\n",
    "import io"
   ]
  },
  {
   "cell_type": "code",
   "execution_count": 23,
   "id": "854e5a90",
   "metadata": {},
   "outputs": [
    {
     "name": "stdout",
     "output_type": "stream",
     "text": [
      "Epoch 1/10\n",
      "90/90 [==============================] - 76s 844ms/step - loss: 0.7745 - accuracy: 0.6631 - val_loss: 1.7101 - val_accuracy: 0.4188\n",
      "Epoch 2/10\n",
      "90/90 [==============================] - 58s 645ms/step - loss: 0.6733 - accuracy: 0.7118 - val_loss: 1.8280 - val_accuracy: 0.4213\n",
      "Epoch 3/10\n",
      "90/90 [==============================] - 58s 646ms/step - loss: 0.6157 - accuracy: 0.7443 - val_loss: 1.5215 - val_accuracy: 0.4873\n",
      "Epoch 4/10\n",
      "90/90 [==============================] - 59s 650ms/step - loss: 0.5741 - accuracy: 0.7645 - val_loss: 1.6984 - val_accuracy: 0.4772\n",
      "Epoch 5/10\n",
      "90/90 [==============================] - 59s 650ms/step - loss: 0.5475 - accuracy: 0.7774 - val_loss: 1.7885 - val_accuracy: 0.4949\n",
      "Epoch 6/10\n",
      "90/90 [==============================] - 59s 652ms/step - loss: 0.4869 - accuracy: 0.8038 - val_loss: 1.8516 - val_accuracy: 0.5152\n",
      "Epoch 7/10\n",
      "90/90 [==============================] - 60s 666ms/step - loss: 0.4809 - accuracy: 0.7955 - val_loss: 1.8342 - val_accuracy: 0.4797\n",
      "Epoch 8/10\n",
      "90/90 [==============================] - 60s 667ms/step - loss: 0.4859 - accuracy: 0.8066 - val_loss: 2.1593 - val_accuracy: 0.5178\n",
      "Epoch 9/10\n",
      "90/90 [==============================] - 60s 668ms/step - loss: 0.4416 - accuracy: 0.8240 - val_loss: 1.6833 - val_accuracy: 0.5838\n",
      "Epoch 10/10\n",
      "90/90 [==============================] - 61s 679ms/step - loss: 0.4024 - accuracy: 0.8359 - val_loss: 2.1519 - val_accuracy: 0.5355\n"
     ]
    },
    {
     "data": {
      "text/plain": [
       "<tensorflow.python.keras.callbacks.History at 0x210346d9b20>"
      ]
     },
     "execution_count": 23,
     "metadata": {},
     "output_type": "execute_result"
    }
   ],
   "source": [
    "model.fit(train,epochs=epochs1,validation_data=test)"
   ]
  },
  {
   "cell_type": "code",
   "execution_count": 25,
   "id": "c16baf21",
   "metadata": {},
   "outputs": [
    {
     "data": {
      "text/plain": [
       "dict_keys(['loss', 'accuracy', 'val_loss', 'val_accuracy'])"
      ]
     },
     "execution_count": 25,
     "metadata": {},
     "output_type": "execute_result"
    }
   ],
   "source": [
    "model.history.history.keys()"
   ]
  },
  {
   "cell_type": "code",
   "execution_count": 26,
   "id": "35f03f2a",
   "metadata": {},
   "outputs": [
    {
     "data": {
      "text/plain": [
       "[0.7745172381401062,\n",
       " 0.6732529997825623,\n",
       " 0.6156545281410217,\n",
       " 0.5741163492202759,\n",
       " 0.5475116968154907,\n",
       " 0.48692241311073303,\n",
       " 0.48093628883361816,\n",
       " 0.4858977198600769,\n",
       " 0.4416152536869049,\n",
       " 0.40238550305366516]"
      ]
     },
     "execution_count": 26,
     "metadata": {},
     "output_type": "execute_result"
    }
   ],
   "source": [
    "train_loss = model.history.history['loss']\n",
    "train_loss"
   ]
  },
  {
   "cell_type": "code",
   "execution_count": 27,
   "id": "ce86ba83",
   "metadata": {},
   "outputs": [
    {
     "data": {
      "text/plain": [
       "[1.710120439529419,\n",
       " 1.828026533126831,\n",
       " 1.5214989185333252,\n",
       " 1.6983782052993774,\n",
       " 1.7884995937347412,\n",
       " 1.8516393899917603,\n",
       " 1.8341649770736694,\n",
       " 2.1593286991119385,\n",
       " 1.6833440065383911,\n",
       " 2.1519341468811035]"
      ]
     },
     "execution_count": 27,
     "metadata": {},
     "output_type": "execute_result"
    }
   ],
   "source": [
    "test_loss = model.history.history['val_loss']\n",
    "test_loss"
   ]
  },
  {
   "cell_type": "code",
   "execution_count": 28,
   "id": "6cb7f263",
   "metadata": {},
   "outputs": [
    {
     "data": {
      "text/plain": [
       "[0.6630662083625793,\n",
       " 0.7118467092514038,\n",
       " 0.7442508935928345,\n",
       " 0.7644599080085754,\n",
       " 0.7773519158363342,\n",
       " 0.8038327693939209,\n",
       " 0.7954703569412231,\n",
       " 0.806620180606842,\n",
       " 0.8240417838096619,\n",
       " 0.8358885049819946]"
      ]
     },
     "execution_count": 28,
     "metadata": {},
     "output_type": "execute_result"
    }
   ],
   "source": [
    "train_acc = model.history.history['accuracy']\n",
    "train_acc"
   ]
  },
  {
   "cell_type": "code",
   "execution_count": 29,
   "id": "0a52f487",
   "metadata": {},
   "outputs": [
    {
     "data": {
      "text/plain": [
       "[0.41878172755241394,\n",
       " 0.42131978273391724,\n",
       " 0.48730963468551636,\n",
       " 0.4771573543548584,\n",
       " 0.494923859834671,\n",
       " 0.5152284502983093,\n",
       " 0.4796954393386841,\n",
       " 0.5177664756774902,\n",
       " 0.5837563276290894,\n",
       " 0.5355330109596252]"
      ]
     },
     "execution_count": 29,
     "metadata": {},
     "output_type": "execute_result"
    }
   ],
   "source": [
    "test_acc = model.history.history['val_accuracy']\n",
    "test_acc"
   ]
  },
  {
   "cell_type": "code",
   "execution_count": 31,
   "id": "7920b48e",
   "metadata": {},
   "outputs": [
    {
     "data": {
      "image/png": "[encoded data removed]",
      "text/plain": [
       "<Figure size 720x720 with 1 Axes>"
      ]
     },
     "metadata": {
      "needs_background": "light"
     },
     "output_type": "display_data"
    }
   ],
   "source": [
    "plt.figure(figsize=(10,10))\n",
    "plt.plot(np.arange(epochs1),train_loss,color='r',label='train_loss')\n",
    "plt.plot(np.arange(epochs1),test_loss,color='g',label='test_loss')\n",
    "plt.plot(np.arange(epochs1),train_acc,color='y',label='train_acc')\n",
    "plt.plot(np.arange(epochs1),test_acc,color='m',label='test_acc')\n",
    "plt.legend()\n",
    "plt.xlabel('Epochs')\n",
    "plt.show()"
   ]
  },
  {
   "cell_type": "code",
   "execution_count": 53,
   "id": "0a970c4a",
   "metadata": {},
   "outputs": [
    {
     "data": {
      "text/plain": [
       "['glioma_tumor', 'meningioma_tumor', 'no_tumor', 'pituitary_tumor']"
      ]
     },
     "execution_count": 53,
     "metadata": {},
     "output_type": "execute_result"
    }
   ],
   "source": [
    "labels"
   ]
  },
  {
   "cell_type": "code",
   "execution_count": 71,
   "id": "27c9816d",
   "metadata": {},
   "outputs": [],
   "source": [
    "from tensorflow.keras.preprocessing import image"
   ]
  },
  {
   "cell_type": "code",
   "execution_count": 63,
   "id": "acf7bda1",
   "metadata": {},
   "outputs": [],
   "source": [
    "import warnings\n",
    "warnings.filterwarnings('ignore')"
   ]
  },
  {
   "cell_type": "code",
   "execution_count": 85,
   "id": "2e90d432",
   "metadata": {
    "scrolled": true
   },
   "outputs": [
    {
     "name": "stdout",
     "output_type": "stream",
     "text": [
      "In all labels the test point =  [[0. 0. 1. 0.]]\n",
      "[2]\n",
      "no_tumor\n"
     ]
    },
    {
     "data": {
      "text/plain": [
       "<matplotlib.image.AxesImage at 0x2107c9e9100>"
      ]
     },
     "execution_count": 85,
     "metadata": {},
     "output_type": "execute_result"
    },
    {
     "data": {
      "image/png": "[encoded data removed]",
      "text/plain": [
       "<Figure size 432x288 with 1 Axes>"
      ]
     },
     "metadata": {
      "needs_background": "light"
     },
     "output_type": "display_data"
    }
   ],
   "source": [
    "g = 'E:\\\\data\\\\Testing\\\\no_tumor\\\\image(1).jpg'\n",
    "img_read = image.load_img(g , target_size=(img_height,img_width))\n",
    "img_read = image.img_to_array(img_read)\n",
    "#print(img_read)\n",
    "a = np.expand_dims(img_read,axis=0)\n",
    "#print(a)\n",
    "prob = model.predict_proba(a)\n",
    "print(\"In all labels the test point = \",prob)\n",
    "a = model.predict_classes(a)\n",
    "print(a)\n",
    "if a[0]==0:\n",
    "    prediction='glioma_tumor'\n",
    "elif a[0]==1:\n",
    "    prediction='meningioma_tumor'\n",
    "elif a[0]==2:\n",
    "    prediction='no_tumor'\n",
    "else:\n",
    "    prediction ='pituitary_tumor'\n",
    "print(prediction)\n",
    "img = plt.imread(g)\n",
    "plt.imshow(img)"
   ]
  },
  {
   "cell_type": "code",
   "execution_count": 84,
   "id": "74490fad",
   "metadata": {},
   "outputs": [
    {
     "name": "stdout",
     "output_type": "stream",
     "text": [
      "In all labels the test point =  [[0. 0. 1. 0.]]\n",
      "[2]\n",
      "no_tumor\n"
     ]
    },
    {
     "data": {
      "text/plain": [
       "<matplotlib.image.AxesImage at 0x2107c9d7100>"
      ]
     },
     "execution_count": 84,
     "metadata": {},
     "output_type": "execute_result"
    },
    {
     "data": {
      "image/png": "[encoded data removed]",
      "text/plain": [
       "<Figure size 432x288 with 1 Axes>"
      ]
     },
     "metadata": {
      "needs_background": "light"
     },
     "output_type": "display_data"
    }
   ],
   "source": [
    "g = 'E:\\\\data\\\\Testing\\\\no_tumor\\\\image(1).jpg'\n",
    "img_read = image.load_img(g , target_size=(img_height,img_width))\n",
    "img_read = image.img_to_array(img_read)\n",
    "#print(img_read)\n",
    "a = np.expand_dims(img_read,axis=0)\n",
    "#print(a)\n",
    "prob = model.predict_proba(a)\n",
    "print(\"In all labels the test point = \",prob)\n",
    "a = model.predict_classes(a)\n",
    "print(a)\n",
    "if a[0]==0:\n",
    "    prediction='glioma_tumor'\n",
    "elif a[0]==1:\n",
    "    prediction='meningioma_tumor'\n",
    "elif a[0]==2:\n",
    "    prediction='no_tumor'\n",
    "else:\n",
    "    prediction ='pituitary_tumor'\n",
    "print(prediction)\n",
    "img = plt.imread(g)\n",
    "plt.imshow(img)"
   ]
  },
  {
   "cell_type": "code",
   "execution_count": 72,
   "id": "d17a97b0",
   "metadata": {},
   "outputs": [],
   "source": [
    "def fun(path):\n",
    "    image_pred = image.load_img(path,target_size=(img_height,img_width))\n",
    "    image_pred = image.img_to_array(image_pred)\n",
    "    a = np.expand_dims(image_pred,axis=0)\n",
    "    result = model.predict_classes(a)\n",
    "    prob = model.predict_proba(a)\n",
    "    print('prediction class',result)\n",
    "    print('probability:{}'.format(prob[0]))\n",
    "    if result[0]==0:\n",
    "        prediction='glioma_tumor'\n",
    "    elif result[0]==1:\n",
    "        prediction='meningioma_tumor'\n",
    "    elif result[0]==2:\n",
    "        prediction='no_tumor'\n",
    "    else:\n",
    "        prediction = 'pituitary_tumor'\n",
    "    \n",
    "    \n",
    "    print('predicition_class:',prediction)"
   ]
  },
  {
   "cell_type": "code",
   "execution_count": 78,
   "id": "28b5d171",
   "metadata": {},
   "outputs": [
    {
     "name": "stdout",
     "output_type": "stream",
     "text": [
      "prediction class [2]\n",
      "probability:[0. 0. 1. 0.]\n",
      "predicition_class: no_tumor\n"
     ]
    }
   ],
   "source": [
    "fun('E:\\\\data\\\\Testing\\\\no_tumor\\\\image(1).jpg')"
   ]
  },
  {
   "cell_type": "code",
   "execution_count": 83,
   "id": "dda1c7a3",
   "metadata": {},
   "outputs": [
    {
     "name": "stdout",
     "output_type": "stream",
     "text": [
      "prediction class [1]\n",
      "probability:[0. 1. 0. 0.]\n",
      "predicition_class: meningioma_tumor\n"
     ]
    }
   ],
   "source": [
    "fun('E:/data/Testing/pituitary_tumor/image(1).jpg')"
   ]
  },
  {
   "cell_type": "code",
   "execution_count": 81,
   "id": "e19d136c",
   "metadata": {},
   "outputs": [
    {
     "name": "stdout",
     "output_type": "stream",
     "text": [
      "prediction class [1]\n",
      "probability:[0.0000000e+00 1.0000000e+00 2.8403326e-25 0.0000000e+00]\n",
      "predicition_class: meningioma_tumor\n"
     ]
    }
   ],
   "source": [
    "fun('E:/data/Testing/meningioma_tumor/image(2).jpg')"
   ]
  },
  {
   "cell_type": "code",
   "execution_count": null,
   "id": "473a24bc",
   "metadata": {},
   "outputs": [],
   "source": []
  }
 ],
 "metadata": {
  "kernelspec": {
   "display_name": "Python 3 (ipykernel)",
   "language": "python",
   "name": "python3"
  },
  "language_info": {
   "codemirror_mode": {
    "name": "ipython",
    "version": 3
   },
   "file_extension": ".py",
   "mimetype": "text/x-python",
   "name": "python",
   "nbconvert_exporter": "python",
   "pygments_lexer": "ipython3",
   "version": "3.9.7"
  }
 },
 "nbformat": 4,
 "nbformat_minor": 5
}
